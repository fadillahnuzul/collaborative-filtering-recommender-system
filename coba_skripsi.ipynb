{
  "nbformat": 4,
  "nbformat_minor": 0,
  "metadata": {
    "colab": {
      "provenance": [],
      "mount_file_id": "1FI-yAcEMGWoQxy0b7aG5SbPHJVvmgwI1",
      "authorship_tag": "ABX9TyM7UcSSh6fERbq5yTP4BtMa",
      "include_colab_link": true
    },
    "kernelspec": {
      "name": "python3",
      "display_name": "Python 3"
    },
    "language_info": {
      "name": "python"
    }
  },
  "cells": [
    {
      "cell_type": "markdown",
      "metadata": {
        "id": "view-in-github",
        "colab_type": "text"
      },
      "source": [
        "<a href=\"https://colab.research.google.com/github/fadillahnuzul/collaborative-filtering-recommender-system/blob/main/coba_skripsi.ipynb\" target=\"_parent\"><img src=\"https://colab.research.google.com/assets/colab-badge.svg\" alt=\"Open In Colab\"/></a>"
      ]
    },
    {
      "cell_type": "markdown",
      "source": [
        "## **Import library**"
      ],
      "metadata": {
        "id": "u1rKejOFOY5D"
      }
    },
    {
      "cell_type": "code",
      "source": [
        "from google.colab import drive\n",
        "import pandas as pd\n",
        "import seaborn as sns\n",
        "import numpy as np\n",
        "from numpy import dot\n",
        "from numpy.linalg import norm\n",
        "from scipy.spatial import distance\n",
        "from tabulate import tabulate\n",
        "\n",
        "#untuk membuka dialog :\n",
        "import tkinter as tk\n",
        "from tkinter import filedialog, Text\n",
        "import os"
      ],
      "metadata": {
        "id": "N3kIdTVqKkxX"
      },
      "execution_count": 20,
      "outputs": []
    },
    {
      "cell_type": "code",
      "execution_count": null,
      "metadata": {
        "colab": {
          "base_uri": "https://localhost:8080/"
        },
        "id": "HA2p5dhbJfvT",
        "outputId": "1cf832da-508f-4e0a-da3a-0c7e321dd7b3"
      },
      "outputs": [
        {
          "output_type": "stream",
          "name": "stdout",
          "text": [
            "Drive already mounted at /content/drive; to attempt to forcibly remount, call drive.mount(\"/content/drive\", force_remount=True).\n"
          ]
        }
      ],
      "source": [
        "drive.mount('/content/drive')"
      ]
    },
    {
      "cell_type": "markdown",
      "source": [
        "\n",
        "##**Preprocessing Data**\n",
        "Menghilangkan missing value dan kolom serat"
      ],
      "metadata": {
        "id": "TQnZavwkKqNx"
      }
    },
    {
      "cell_type": "code",
      "source": [
        "def preprocessing(df) :\n",
        "  #menghapus kolom serat\n",
        "  df.drop(['serat'], axis = 1, inplace = True)\n",
        "  #mendeteksi dan menghapus missing value\n",
        "  print(\"Sebelum missing value dihilangkan :\\n\",df.isnull().sum())\n",
        "  print(\"Ukuran data sebelum missing value dihilangkan :\", df.shape)\n",
        "  df = df.dropna(axis=0)\n",
        "  print(\"Setelah missing value dihilangkan :\\n\",df.isnull().sum())\n",
        "  df.reset_index(drop=True, inplace = True)\n",
        "  print(\"Ukuran data setelah missing value dihilangkan :\", df.shape)\n",
        "  df.head()\n",
        "  return df\n",
        "# #mendeteksi dan menghilangkan outlier\n",
        "# sns.boxplot(df['kalori']).set(title='Deteksi Outlier Kalori')\n",
        "# Q1 = np.percentile(df['kalori'], 25,\n",
        "#                    interpolation = 'midpoint')\n",
        " \n",
        "# Q3 = np.percentile(df['kalori'], 75,\n",
        "#                    interpolation = 'midpoint')\n",
        "# IQR = Q3 - Q1\n",
        " \n",
        "# print(\"Sebelum menghilangkan outlier: \", df.shape)\n",
        " \n",
        "# # Upper bound\n",
        "# upper = np.where(df['kalori'] >= (Q3+1.5*IQR))\n",
        "# # Lower bound\n",
        "# lower = np.where(df['kalori'] <= (Q1-1.5*IQR))\n",
        " \n",
        "# ''' Removing the Outliers '''\n",
        "# df.drop(upper[0], inplace = True)\n",
        "# df.drop(lower[0], inplace = True)\n",
        "# df.reset_index(inplace = True)\n",
        "# print(\"Setelah menghilangkan outlier: \", df.shape)"
      ],
      "metadata": {
        "id": "Wmx4iRBZKuL7"
      },
      "execution_count": 3,
      "outputs": []
    },
    {
      "cell_type": "markdown",
      "source": [
        "## **Perhitungan BMR**\n",
        "Menghitung kebutuhan energi (kalori), karbohidrat, protein, dan lemak"
      ],
      "metadata": {
        "id": "fGUBXVsISgkx"
      }
    },
    {
      "cell_type": "code",
      "source": [
        "def perhitungan_gizi_harian() :\n",
        "  # window = tk.Tk()\n",
        "  # window.mainloop()\n",
        "  #Input data\n",
        "  tinggi = int(input(\"Input tinggi badan (dalam cm) : \"))\n",
        "  tinggi = tinggi/100\n",
        "  berat = int(input(\"Input berat badan (dalam kg) : \"))\n",
        "  usia = int(input(\"Input usia (dalam tahun) : \"))\n",
        "  jenis_kelamin = input(\"Input jenis kelamin (L/P) : \")\n",
        "  jenis_kerja = input(\"Jenis pekerjaan \\n1.Ringan (75% duduk/berdiri, 25% berdiri/bergerak) \\n2.Sedang (25% duduk/berdiri, 75% berdiri/bergerak) \\n3.Berat (40% duduk/berdiri, 60% aktivitas) \\nInput jenis pekerjaan (1/2/3) : \")\n",
        "\n",
        "  #Perhitungan energi harian\n",
        "  if jenis_kelamin == 'L' or  jenis_kelamin == 'l' :\n",
        "    BMR = 66.473 + (13.752*berat) + (5.003*tinggi) - (6.755*usia)\n",
        "    if jenis_kerja == '1' :\n",
        "      energi = BMR*1.56\n",
        "    elif jenis_kerja == '2' :\n",
        "      energi = BMR*1.76\n",
        "    elif jenis_kerja == '3' :\n",
        "      energi = BMR*2.1\n",
        "  elif jenis_kelamin == 'P' or  jenis_kelamin == 'p' :\n",
        "    BMR = 655.096 + (9.563*berat) + (1.850*tinggi) - (4.676*usia)\n",
        "    if jenis_kerja == '1' :\n",
        "      energi = BMR*1.55\n",
        "    elif jenis_kerja == '2' :\n",
        "      energi = BMR*1.7\n",
        "    elif jenis_kerja == '3' :\n",
        "      energi = BMR*2\n",
        "\n",
        "  #Menghitung BMI\n",
        "  bmi = berat/(tinggi**2)\n",
        "  if bmi < 17 :\n",
        "    bmi_kategori = \"Kurus (kekurangan berat badan tingkat berat)\"\n",
        "    energi = energi + 500\n",
        "  elif 17 <= bmi < 18.5 :\n",
        "    bmi_kategori = \"Kurus (kekurangan berat badan tingkat ringan)\"\n",
        "    energi = energi + 500\n",
        "  elif 18.5 <= bmi <= 25 :\n",
        "    bmi_kategori = \"Normal\"\n",
        "  elif 25 < bmi <= 27 :\n",
        "    bmi_kategori = \"Gemuk (kelebihan berat badan tingkat ringan)\"\n",
        "    energi = energi - 500\n",
        "  elif bmi > 27 :\n",
        "    bmi_kategori = \"Gemuk (kelebihan berat badan tingkat berat)\"\n",
        "    energi = energi - 500\n",
        "  print(bmi_kategori)\n",
        "  energi = round(energi, 3)\n",
        "  print(energi, \"kalori\")\n",
        "  #perhitungan protein, karbohidrat, lemak\n",
        "  protein = round((12/100*energi)/4, 3)\n",
        "  karbo = round((68/100*energi)/4, 3)\n",
        "  lemak = round((20/100*energi)/9, 3)\n",
        "  #mencari kebutuhan nutrisi tiap kali makan, dikurangi dengan jumlah gizi nasi\n",
        "  # energi = energi/3 - 180   #estimasi 3x makan\n",
        "  # protein = protein/3 - 3\n",
        "  # karbo = karbo/3 - 39.8\n",
        "  # lemak = lemak/3 - 0.3\n",
        "  array_gizi = [energi, protein, karbo, lemak] #kalori dibuat perhari\n",
        "  return (array_gizi)"
      ],
      "metadata": {
        "id": "YvmH5NshTkX9"
      },
      "execution_count": 29,
      "outputs": []
    },
    {
      "cell_type": "code",
      "source": [
        "array_gizi = perhitungan_gizi_harian()"
      ],
      "metadata": {
        "colab": {
          "base_uri": "https://localhost:8080/"
        },
        "id": "vSo-4aJcDfH3",
        "outputId": "ad600fd9-3f39-4210-a041-071229de95a8"
      },
      "execution_count": 30,
      "outputs": [
        {
          "output_type": "stream",
          "name": "stdout",
          "text": [
            "Input tinggi badan (dalam cm) : 152\n",
            "Input berat badan (dalam kg) : 49\n",
            "Input usia (dalam tahun) : 22\n",
            "Input jenis kelamin (L/P) : p\n",
            "Jenis pekerjaan \n",
            "1.Ringan (75% duduk/berdiri, 25% berdiri/bergerak) \n",
            "2.Sedang (25% duduk/berdiri, 75% berdiri/bergerak) \n",
            "3.Berat (40% duduk/berdiri, 60% aktivitas) \n",
            "Input jenis pekerjaan (1/2/3) : 1\n",
            "Normal\n",
            "1586.616 kalori\n"
          ]
        }
      ]
    },
    {
      "cell_type": "markdown",
      "source": [
        "### **Pengurangan dengan Nutrisi Nasi, Sayuran B, dan Buah**"
      ],
      "metadata": {
        "id": "MOr37yljy6Em"
      }
    },
    {
      "cell_type": "code",
      "source": [
        "#pengurangan nutrisi nasi (180 kal, 3 gr protein, 39.8 gr karbo, 0.3 lemak)\n",
        "def nutrisi_nasi(df) :\n",
        "  df[0] = df[0] - 180\n",
        "  df[1] = df[1] - 3\n",
        "  df[2] = df[2] - 39.8\n",
        "  df[3] = df[3] - 0.3\n",
        "  return df\n",
        "\n",
        "#pengurangan nutrisi sayuran B (25 kal, 1 gr protein, 5 gr karbo)\n",
        "def nutrisi_sayur(df) :\n",
        "  df[0] = df[0] - 25\n",
        "  df[1] = df[1] - 1\n",
        "  df[2] = df[2] - 5\n",
        "  return df\n",
        "\n",
        "#mengambil buah dan sayur secara acak\n",
        "def random_buah_sayur(df) :\n",
        "  df.sample()\n",
        "  return df\n",
        "\n",
        "#pengurangan nutrisi buah (50 kal, 12 gr karbo)\n",
        "def nutrisi_buah(df_nutrisi, df_buah) :\n",
        "  df_buah = df_buah.to_numpy()\n",
        "  df_nutrisi[0] = df_nutrisi[0] - df_buah[0][1]\n",
        "  df_nutrisi[1] = df_nutrisi[1] - df_buah[0][2]\n",
        "  df_nutrisi[2] = df_nutrisi[2] - df_buah[0][3]\n",
        "  df_nutrisi[3] = df_nutrisi[3] - df_buah[0][4]\n",
        "  return df_nutrisi"
      ],
      "metadata": {
        "id": "IleKLd8PzBte"
      },
      "execution_count": 5,
      "outputs": []
    },
    {
      "cell_type": "markdown",
      "source": [
        "## **Colaborative Filtering**"
      ],
      "metadata": {
        "id": "bj09vY-9hXre"
      }
    },
    {
      "cell_type": "code",
      "source": [
        "def colab_filtering(df, gizi) :\n",
        "  #euclidean distance\n",
        "  a = gizi\n",
        "  df['euclidean'] = np.nan\n",
        "  for i in range (len(df)) :\n",
        "    b = [df['kalori'][i], df['protein'][i], df['karbo'][i], df['lemak'][i]]\n",
        "    b = b / df['sajian_per_resep'][i]\n",
        "    df['euclidean'][i] = distance.euclidean(a,b)\n",
        "  df = df.sort_values(['euclidean'], ascending=[True])\n",
        "  #Pembobotan nutrisi dan rating\n",
        "  n = 0.5\n",
        "  max_jarak = max(df['euclidean'])\n",
        "  for i in df :\n",
        "    jarak = df['euclidean']\n",
        "    rating = df['rating']\n",
        "    df['score'] = n*(rating/5) + (1-n)*(1-(jarak/max_jarak))\n",
        "  menu_rekomendasi = df.sort_values(['score'], ascending=[False])\n",
        "  return menu_rekomendasi"
      ],
      "metadata": {
        "id": "abVnFDWa9fRW"
      },
      "execution_count": 6,
      "outputs": []
    },
    {
      "cell_type": "markdown",
      "source": [
        "## **Menampilkan Rekomendasi**"
      ],
      "metadata": {
        "id": "UMF-p5ozDnnF"
      }
    },
    {
      "cell_type": "code",
      "source": [
        "#menampilkan rekomendasi menu\n",
        "def tampil_rekomendasi(rekomendasi, resep_bahan) :\n",
        "  data_resep_bahan = pd.read_excel(\"drive/My Drive/Skripsi/DataUmami.xlsx\", sheet_name=resep_bahan)\n",
        "  inner_join = pd.merge(rekomendasi, data_resep_bahan, on ='nama_resep', how ='inner')\n",
        "  return (inner_join[['nama_resep','bahan_bahan','cara_membuat']])"
      ],
      "metadata": {
        "id": "6kPtOC6uD3KZ"
      },
      "execution_count": 7,
      "outputs": []
    },
    {
      "cell_type": "markdown",
      "source": [
        "# **MAIN FUNGSI**"
      ],
      "metadata": {
        "id": "CuHivLApHeiP"
      }
    },
    {
      "cell_type": "code",
      "source": [
        "#Membaca data\n",
        "df_sarapan = pd.read_excel(\"drive/My Drive/Skripsi/DataUmami.xlsx\", sheet_name='sarapan')\n",
        "df_sarapan = pd.DataFrame(df_sarapan)\n",
        "df_siang = pd.read_excel(\"drive/My Drive/Skripsi/DataUmami.xlsx\", sheet_name='makan_siang')\n",
        "df_siang = pd.DataFrame(df_siang)\n",
        "df_malam = pd.read_excel(\"drive/My Drive/Skripsi/DataUmami.xlsx\", sheet_name='makan_malam')\n",
        "df_malam = pd.DataFrame(df_malam)\n",
        "df_camilan = pd.read_excel(\"drive/My Drive/Skripsi/DataUmami.xlsx\", sheet_name='camilan')\n",
        "df_camilan = pd.DataFrame(df_camilan)\n",
        "df_buah = pd.read_excel(\"drive/My Drive/Skripsi/DataBahanPenukar.xlsx\", sheet_name='buah')\n",
        "df_buah = pd.DataFrame(df_buah)\n",
        "df_sayurA = pd.read_excel(\"drive/My Drive/Skripsi/DataBahanPenukar.xlsx\", sheet_name='sayurA')\n",
        "df_sayurA = pd.DataFrame(df_sayurA)\n",
        "df_sayurB = pd.read_excel(\"drive/My Drive/Skripsi/DataBahanPenukar.xlsx\", sheet_name='sayurB')\n",
        "df_sayurB = pd.DataFrame(df_sayurB)\n",
        "\n",
        "#Preprocessing data\n",
        "df_sarapan = preprocessing(df_sarapan)\n",
        "df_siang = preprocessing(df_siang)\n",
        "df_malam = preprocessing(df_malam)\n",
        "df_camilan = preprocessing(df_camilan)\n",
        "\n",
        "#Menentukan kebutuhan gizi pengguna\n",
        "array_gizi = perhitungan_gizi_harian()\n",
        "\n",
        "#Pembagian gizi harian\n",
        "sarapan, siang, malam, camilan = [], [], [], []\n",
        "for i in range (len(array_gizi)) :\n",
        "  sarapan.append(round(20/100*array_gizi[i], 3))\n",
        "  siang.append(round(25/100*array_gizi[i], 3))\n",
        "  malam.append(round(25/100*array_gizi[i], 3))\n",
        "  camilan.append(round(10/100*array_gizi[i],3))\n",
        "\n",
        "#Mengurangi nutrisi dengan nutrisi nasi pada menu makanan utama\n",
        "sarapan = nutrisi_nasi(sarapan)\n",
        "siang = nutrisi_nasi(siang)\n",
        "malam = nutrisi_nasi(malam)\n",
        "\n",
        "#Mengurangi nutrisi dengan nutrisi sayuran B pada menu makanan utama\n",
        "sayur_pagi = df_sayurA.sample(1)\n",
        "sayurA_siang = df_sayurA.sample(1)\n",
        "sayurA_malam = df_sayurA.sample(1)\n",
        "sayurB_siang = df_sayurB.sample(1)\n",
        "sayurB_malam = df_sayurB.sample(1)\n",
        "siang = nutrisi_sayur(siang)\n",
        "malam = nutrisi_sayur(malam)\n",
        "\n",
        "#Mengurangi nutrisi dengan nutrisi buah pada menu makanan utama\n",
        "buah_siang = df_buah.sample(1)\n",
        "buah_malam = df_buah.sample(1)\n",
        "siang = nutrisi_buah(siang, buah_siang)\n",
        "malam = nutrisi_buah(malam, buah_siang)\n",
        "\n",
        "#Menentukan rekomendasi\n",
        "rekomendasi_sarapan = colab_filtering(df_sarapan,sarapan).head(1)\n",
        "rekomendasi_siang = colab_filtering(df_siang,siang).head(1)\n",
        "rekomendasi_malam = colab_filtering(df_malam,malam).head(1)\n",
        "rekomendasi_camilan = colab_filtering(df_camilan,camilan).head(3)\n",
        "\n",
        "#Menampilkan rekomendasi\n",
        "tampil_sarapan = tampil_rekomendasi(rekomendasi_sarapan, 'sarapan_resep_bahan')\n",
        "tampil_siang = tampil_rekomendasi(rekomendasi_siang, 'makan_siang_resep_bahan')\n",
        "tampil_malam = tampil_rekomendasi(rekomendasi_malam, 'makan_malam_resep_bahan')\n",
        "tampil_camilan = tampil_rekomendasi(rekomendasi_camilan, 'camilan_resep_bahan')\n",
        "\n",
        "pd.set_option('max_rows', 99999)\n",
        "pd.set_option('max_colwidth', 100)\n",
        "pd.describe_option('max_colwidth')\n",
        "print(\"\\n\\n\\n################# SARAPAN ####################\")\n",
        "print(tabulate(tampil_sarapan, headers='keys', tablefmt='pretty'))\n",
        "print(\"sayuran pagi:\\n\",sayur_pagi.nama_sayur.to_string(index=False))\n",
        "print(\"\\n\\n\\n################# CAMILAN PAGI ####################\")\n",
        "print(tabulate(tampil_camilan.loc[[0]], headers='keys', tablefmt='pretty'))\n",
        "print(\"\\n\\n\\n################# MAKAN SIANG ####################\")\n",
        "print(tabulate(tampil_siang, headers='keys', tablefmt='pretty'))\n",
        "print(\"sayuran siang:\\n\", sayurA_siang.nama_sayur.to_string(index=False), \"\\n\", sayurB_siang.nama_sayur.to_string(index=False))\n",
        "print(\"buah siang:\\n\", buah_siang.nama_buah.to_string(index=False), \" \", buah_siang.porsi_urt.to_string(index=False))\n",
        "print(\"\\n\\n\\n################# CAMILAN SIANG ####################\")\n",
        "print(tabulate(tampil_camilan.loc[[1]], headers='keys', tablefmt='pretty'))\n",
        "print(\"\\n\\n\\n################# MAKAN MALAM ####################\")\n",
        "print(tabulate(tampil_malam, headers='keys', tablefmt='pretty'))\n",
        "print(\"sayuran malam:\\n\", sayurA_malam.nama_sayur.to_string(index=False), \"\\n\", sayurB_malam.nama_sayur.to_string(index=False))\n",
        "print(\"buah malam:\\n\", buah_malam.nama_buah.to_string(index=False), \" \", buah_malam.porsi_urt.to_string(index=False))\n",
        "print(\"\\n\\n\\n################# CAMILAN MALAM ####################\")\n",
        "print(tabulate(tampil_camilan.loc[[2]], headers='keys', tablefmt='pretty'))"
      ],
      "metadata": {
        "colab": {
          "base_uri": "https://localhost:8080/"
        },
        "id": "guNtvO6tHkl6",
        "outputId": "9b123883-78cf-4258-9f8d-7c8748e37cc1"
      },
      "execution_count": 19,
      "outputs": [
        {
          "output_type": "stream",
          "name": "stdout",
          "text": [
            "Sebelum missing value dihilangkan :\n",
            " nama_resep          0\n",
            "rating              0\n",
            "kalori              0\n",
            "protein             0\n",
            "karbo               0\n",
            "lemak               0\n",
            "sajian_per_resep    0\n",
            "dtype: int64\n",
            "Ukuran data sebelum missing value dihilangkan : (5, 7)\n",
            "Setelah missing value dihilangkan :\n",
            " nama_resep          0\n",
            "rating              0\n",
            "kalori              0\n",
            "protein             0\n",
            "karbo               0\n",
            "lemak               0\n",
            "sajian_per_resep    0\n",
            "dtype: int64\n",
            "Ukuran data setelah missing value dihilangkan : (5, 7)\n",
            "Sebelum missing value dihilangkan :\n",
            " nama_resep           0\n",
            "rating               0\n",
            "kalori               0\n",
            "protein             17\n",
            "karbo               23\n",
            "lemak               18\n",
            "sajian_per_resep     1\n",
            "dtype: int64\n",
            "Ukuran data sebelum missing value dihilangkan : (250, 7)\n",
            "Setelah missing value dihilangkan :\n",
            " nama_resep          0\n",
            "rating              0\n",
            "kalori              0\n",
            "protein             0\n",
            "karbo               0\n",
            "lemak               0\n",
            "sajian_per_resep    0\n",
            "dtype: int64\n",
            "Ukuran data setelah missing value dihilangkan : (225, 7)\n",
            "Sebelum missing value dihilangkan :\n",
            " nama_resep          0\n",
            "rating              0\n",
            "kalori              0\n",
            "protein             0\n",
            "karbo               3\n",
            "lemak               0\n",
            "sajian_per_resep    0\n",
            "dtype: int64\n",
            "Ukuran data sebelum missing value dihilangkan : (100, 7)\n",
            "Setelah missing value dihilangkan :\n",
            " nama_resep          0\n",
            "rating              0\n",
            "kalori              0\n",
            "protein             0\n",
            "karbo               0\n",
            "lemak               0\n",
            "sajian_per_resep    0\n",
            "dtype: int64\n",
            "Ukuran data setelah missing value dihilangkan : (97, 7)\n",
            "Sebelum missing value dihilangkan :\n",
            " nama_resep          0\n",
            "rating              0\n",
            "kalori              0\n",
            "protein             0\n",
            "karbo               0\n",
            "lemak               1\n",
            "sajian_per_resep    0\n",
            "dtype: int64\n",
            "Ukuran data sebelum missing value dihilangkan : (99, 7)\n",
            "Setelah missing value dihilangkan :\n",
            " nama_resep          0\n",
            "rating              0\n",
            "kalori              0\n",
            "protein             0\n",
            "karbo               0\n",
            "lemak               0\n",
            "sajian_per_resep    0\n",
            "dtype: int64\n",
            "Ukuran data setelah missing value dihilangkan : (98, 7)\n",
            "Input tinggi badan (dalam cm) : 175\n",
            "Input berat badan (dalam kg) : 80\n",
            "Input usia (dalam tahun) : 22\n",
            "Input jenis kelamin (L/P) : p\n",
            "Jenis pekerjaan \n",
            "1.Ringan (75% duduk/berdiri, 25% berdiri/bergerak) \n",
            "2.Sedang (25% duduk/berdiri, 75% berdiri/bergerak) \n",
            "3.Berat (40% duduk/berdiri, 60% berdiri/bergerak) \n",
            "Input jenis pekerjaan (1/2/3) : 1\n",
            "Gemuk (kelebihan berat badan tingkat ringan)\n",
            "1546.777 kalori\n"
          ]
        },
        {
          "output_type": "stream",
          "name": "stderr",
          "text": [
            "<ipython-input-6-72476e72935d>:8: SettingWithCopyWarning: \n",
            "A value is trying to be set on a copy of a slice from a DataFrame\n",
            "\n",
            "See the caveats in the documentation: https://pandas.pydata.org/pandas-docs/stable/user_guide/indexing.html#returning-a-view-versus-a-copy\n",
            "  df['euclidean'][i] = distance.euclidean(a,b)\n"
          ]
        },
        {
          "output_type": "stream",
          "name": "stdout",
          "text": [
            "display.max_colwidth : int or None\n",
            "    The maximum width in characters of a column in the repr of\n",
            "    a pandas data structure. When the column overflows, a \"...\"\n",
            "    placeholder is embedded in the output. A 'None' value means unlimited.\n",
            "    [default: 50] [currently: 100]\n",
            "\n",
            "\n",
            "\n",
            "################# SARAPAN ####################\n",
            "+---+-------------------------------+----------------------------+-----------------------------------------------------------------------------------------------------------------------------+\n",
            "|   |          nama_resep           |        bahan_bahan         |                                                        cara_membuat                                                         |\n",
            "+---+-------------------------------+----------------------------+-----------------------------------------------------------------------------------------------------------------------------+\n",
            "| 0 | Resep Burger Sayur ala Mayumi | 150 gr Daging Ayam Cincang |                                                          Langkah 1                                                          |\n",
            "|   |                               |     50 gr Kornet Sapi      | Campur daging dada ayam cincang, kornet, garam, merica, wortel, jagung dan ½ bks Mayumi®, aduk rata, bagi menjadi 6 bagian. |\n",
            "|   |                               |     50 gr Wortel Parut     |                                                          Langkah 2                                                          |\n",
            "|   |                               | 3 sdm Jagung Manis Pipilan |        Panaskan panggangan kue, cetak dan panggang burger sayur hingga matang. Angkat, sajikan bersama sisa Mayumi®.        |\n",
            "|   |                               |        ½ sdt Merica        |                                                                                                                             |\n",
            "|   |                               |        ½ sdt Garam         |                                                                                                                             |\n",
            "|   |                               |    1 bks Mayumi® 100 gr    |                                                                                                                             |\n",
            "|   |                               |    3 sdm Minyak Goreng     |                                                                                                                             |\n",
            "+---+-------------------------------+----------------------------+-----------------------------------------------------------------------------------------------------------------------------+\n",
            "sayuran pagi:\n",
            " Lettuce \n",
            "\n",
            "\n",
            "\n",
            "################# CAMILAN PAGI ####################\n",
            "+---+--------------------------+-------------------------------+--------------------------------------------------------------------------------------------------------------------------------------------------------+\n",
            "|   |        nama_resep        |          bahan_bahan          |                                                                      cara_membuat                                                                      |\n",
            "+---+--------------------------+-------------------------------+--------------------------------------------------------------------------------------------------------------------------------------------------------+\n",
            "| 0 | Resep Singkong Isi Oncom |     250 gr Singkong Parut     |                                                                       Langkah 1                                                                        |\n",
            "|   |                          |         150 gr Oncom          |                                                        Iris cabai rawit, daun bawang, sisihkan.                                                        |\n",
            "|   |                          |      30 gr Kelapa Parut       |                                                                       Langkah 2                                                                        |\n",
            "|   |                          |       ½ btg Daun Bawang       |                    Campur singkong parut, kelapa parut, dan 1/2 bks Masako® Rasa Ayam, aduk rata, bagi menjadi 8 bagian, sisihkan.                     |\n",
            "|   |                          |       5 bh Cabai Rawit        |                                                                       Langkah 3                                                                        |\n",
            "|   |                          |       1 sdm Gula Merah        | Panaskan 2 sdm minyak, masukkan oncom, cabai rawit, daun bawang, gula merah dan 1/2 bks Masako® Rasa Ayam, masak hingga matang. Bagi menjadi 8 bagian. |\n",
            "|   |                          | 1 bks Masako® Rasa Ayam 11 gr |                                                                       Langkah 4                                                                        |\n",
            "|   |                          |     600 ml Minyak Goreng      |                      Ambil 1 bagian adonan singkong, isi dengan 1 adonan oncom, lalu bulatkan oval, lakukan hingga adonan habis.                       |\n",
            "|   |                          |                               |                                                                       Langkah 5                                                                        |\n",
            "|   |                          |                               |                                       Panaskan minyak, goreng combro hingga kuning keemasan, angkat dan sajikan.                                       |\n",
            "+---+--------------------------+-------------------------------+--------------------------------------------------------------------------------------------------------------------------------------------------------+\n",
            "\n",
            "\n",
            "\n",
            "################# MAKAN SIANG ####################\n",
            "+---+-----------------------------------------+-------------------------+-------------------------------------------------------------------------------+\n",
            "|   |               nama_resep                |       bahan_bahan       |                                 cara_membuat                                  |\n",
            "+---+-----------------------------------------+-------------------------+-------------------------------------------------------------------------------+\n",
            "| 0 | Resep Kerang Hijau Saus Tiram Ala SAORI |   250 gr Kerang hijau   |                                   Langkah 1                                   |\n",
            "|   |                                         | 1 bks SAORI® Saus Tiram |                Iris cabai merah besar, geprek jahe, sisihkan.                 |\n",
            "|   |                                         | 1 bh Cabai merah besar  |                                   Langkah 2                                   |\n",
            "|   |                                         |       1 ruas Jahe       | Panaskan minyak goreng. Masukkan cabai merah besar dan jahe, tumis sebentar.  |\n",
            "|   |                                         |       150 ml Air        |                                   Langkah 3                                   |\n",
            "|   |                                         |   3 sdm Minyak Goreng   |                            Masukkan kerang hijau.                             |\n",
            "|   |                                         |                         |                                   Langkah 4                                   |\n",
            "|   |                                         |                         | Tambahkan air dan SAORI® Saus Tiram, masak hingga matang. Angkat dan sajikan. |\n",
            "+---+-----------------------------------------+-------------------------+-------------------------------------------------------------------------------+\n",
            "sayuran siang:\n",
            " Lettuce  \n",
            " Pepaya muda\n",
            "buah siang:\n",
            " Pisang mas   2 buah\n",
            "\n",
            "\n",
            "\n",
            "################# CAMILAN SIANG ####################\n",
            "+---+----------------------------+----------------------------------+---------------------------------------------------------------------------------------------------------------------------------------------+\n",
            "|   |         nama_resep         |           bahan_bahan            |                                                                cara_membuat                                                                 |\n",
            "+---+----------------------------+----------------------------------+---------------------------------------------------------------------------------------------------------------------------------------------+\n",
            "| 1 | Resep Keripik Tempe Sajiku |      1 papan (150 gr) Tempe      |                                                                  Langkah 1                                                                  |\n",
            "|   |                            | 1 bks Sajiku® Tepung Bumbu 80 gr |                                                           Iris tipis-tipis tempe.                                                           |\n",
            "|   |                            |       700 ml Minyak Goreng       |                                                                  Langkah 2                                                                  |\n",
            "|   |                            |          500 ml Air es           |                                                    Celupkan irisan tempe kedalam air es.                                                    |\n",
            "|   |                            |                                  |                                                                  Langkah 3                                                                  |\n",
            "|   |                            |                                  |                         Masukkan irisan tempe ke dalam 1 bungkus Sajiku® Tepung Bumbu 80 g, gulingkan hingga rata.                          |\n",
            "|   |                            |                                  |                                                                  Langkah 4                                                                  |\n",
            "|   |                            |                                  |         Panaskan minyak goreng, masukkan tempe, goreng hingga matang (±15 menit) dan berwarna kuning keemasan. Angkat dan sajikan.          |\n",
            "|   |                            |                                  |                                                                  Langkah 5                                                                  |\n",
            "|   |                            |                                  | TIPS : Masukkan dalam toples setelah keripik tempe dingin. Untuk variant rasa pedas dapat menggunakan Sajiku® tepung bumbu serbaguna pedas. |\n",
            "+---+----------------------------+----------------------------------+---------------------------------------------------------------------------------------------------------------------------------------------+\n",
            "\n",
            "\n",
            "\n",
            "################# MAKAN MALAM ####################\n",
            "+---+--------------------------------+---------------------------------+--------------------------------------------------------------------------------------------------------------------------------------------------------------+\n",
            "|   |           nama_resep           |           bahan_bahan           |                                                                         cara_membuat                                                                         |\n",
            "+---+--------------------------------+---------------------------------+--------------------------------------------------------------------------------------------------------------------------------------------------------------+\n",
            "| 0 | Resep Ayam Goreng Sambal Matah |       Bahan Ayam Goreng :       |                                                                          Langkah 1                                                                           |\n",
            "|   |                                |           4 ptg Ayam            |                    Panaskan air, masukkan ayam dan Sajiku® Bumbu Ayam Goreng, rebus hingga ayam empuk dan airnya habis, angkat, tiriskan.                    |\n",
            "|   |                                | 1 bks Sajiku® Bumbu Ayam Goreng |                                                                          Langkah 2                                                                           |\n",
            "|   |                                |            500 ml Air           |                                        Panaskan minyak goreng, masukkan ayam, goreng hingga matang, angkat, sisihkan.                                        |\n",
            "|   |                                |      600 ml Minyak Goreng       |                                                                          Langkah 3                                                                           |\n",
            "|   |                                |      Bahan Sambal Matah :       |                                  Potong tomat bentuk dadu, iris bawang merah, cabai merah, serai dan cabai rawit, sisihkan.                                  |\n",
            "|   |                                |     1 bh Cabai Merah Besar      |                                                                          Langkah 4                                                                           |\n",
            "|   |                                |        5 bh Cabai Rawit         | Masukkan bawang merah, cabai merah, serai, cabai rawit, dan tomat ke dalam wadah, tambahkan terasi, air jeruk limo, ½ sdt garam, dan AJI-NO-MOTO® aduk rata. |\n",
            "|   |                                |      ½ bh Tomat Buang Biji      |                                                                          Langkah 5                                                                           |\n",
            "|   |                                |       10 bh Bawang Merah        |                          Masukkan 100 ml minyak goreng panas hasil gorengan ayam, aduk rata, tuangkan di atas ayam goreng, sajikan.                          |\n",
            "|   |                                |           1 btg Serai           |                                                                                                                                                              |\n",
            "|   |                                |         2 bh Jeruk Limo         |                                                                                                                                                              |\n",
            "|   |                                |          ½  sdt Terasi          |                                                                                                                                                              |\n",
            "|   |                                |       ½  sdt AJI-NO-MOTO®       |                                                                                                                                                              |\n",
            "|   |                                |           ½ sdt Garam           |                                                                                                                                                              |\n",
            "+---+--------------------------------+---------------------------------+--------------------------------------------------------------------------------------------------------------------------------------------------------------+\n",
            "sayuran malam:\n",
            " Lettuce  \n",
            " Bawang bombay\n",
            "buah malam:\n",
            " Blewah   1 potong sedang\n",
            "\n",
            "\n",
            "\n",
            "################# CAMILAN MALAM ####################\n",
            "+---+---------------------------+-------------------------+-------------------------------------------------------------------------------------------------------------------+\n",
            "|   |        nama_resep         |       bahan_bahan       |                                                   cara_membuat                                                    |\n",
            "+---+---------------------------+-------------------------+-------------------------------------------------------------------------------------------------------------------+\n",
            "| 2 | Resep Gabin Goreng Mayumi |       12 bh Gabin       |                                                     Langkah 1                                                     |\n",
            "|   |                           |  25 gr Terigu Sangrai   | Buat isian: masukkan keju, Mayumi® Pedas, susu kental manis, terigu sangrai, aduk rata dan bagi menjadi 6 bagian. |\n",
            "|   |                           |       50 gr Keju        |                                                     Langkah 2                                                     |\n",
            "|   |                           |    2 bh Telur Kocok     |                           Isi gabin dengan olesan, tumpuk dengan gabin lagi di atasnya.                           |\n",
            "|   |                           |   1 bks Mayumi® Pedas   |                                                     Langkah 3                                                     |\n",
            "|   |                           | 2 sdm Susu Kental Manis |                         Celupkan gabin yang telah diisi ke dalam telur kocok hingga rata.                         |\n",
            "|   |                           |  700 ml Minyak Goreng   |                                                     Langkah 4                                                     |\n",
            "|   |                           |                         |              Panaskan minyak goreng, masukkan gabin, goreng hingga kuning keemasan, angkat, sajikan.              |\n",
            "+---+---------------------------+-------------------------+-------------------------------------------------------------------------------------------------------------------+\n"
          ]
        }
      ]
    }
  ]
}