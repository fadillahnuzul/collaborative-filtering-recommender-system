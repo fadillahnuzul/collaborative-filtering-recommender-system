{
  "cells": [
    {
      "cell_type": "markdown",
      "metadata": {
        "colab_type": "text",
        "id": "view-in-github"
      },
      "source": [
        "<a href=\"https://colab.research.google.com/github/fadillahnuzul/Content-based-Recommender-System/blob/master/coba_skripsi.ipynb\" target=\"_parent\"><img src=\"https://colab.research.google.com/assets/colab-badge.svg\" alt=\"Open In Colab\"/></a>"
      ]
    },
    {
      "cell_type": "markdown",
      "metadata": {
        "id": "u1rKejOFOY5D"
      },
      "source": [
        "## **Import library**"
      ]
    },
    {
      "cell_type": "code",
      "execution_count": null,
      "metadata": {
        "id": "N3kIdTVqKkxX"
      },
      "outputs": [
        {
          "ename": "",
          "evalue": "",
          "output_type": "error",
          "traceback": [
            "\u001b[1;31mRunning cells with 'c:\\Users\\Nuzul Nur Fadilah\\AppData\\Local\\Microsoft\\WindowsApps\\python3.9.exe' requires the ipykernel package.\n",
            "\u001b[1;31mRun the following command to install 'ipykernel' into the Python environment. \n",
            "\u001b[1;31mCommand: '\"c:/Users/Nuzul Nur Fadilah/AppData/Local/Microsoft/WindowsApps/python3.9.exe\" -m pip install ipykernel -U --user --force-reinstall'"
          ]
        }
      ],
      "source": [
        "from google.colab import drive\n",
        "import pandas as pd\n",
        "import seaborn as sns\n",
        "import numpy as np\n",
        "from numpy import dot\n",
        "from numpy.linalg import norm\n",
        "from scipy.spatial import distance\n",
        "from tabulate import tabulate\n",
        "\n",
        "#untuk membuka dialog :\n",
        "import tkinter as tk\n",
        "from tkinter import filedialog, Text\n",
        "import os"
      ]
    },
    {
      "cell_type": "code",
      "execution_count": null,
      "metadata": {
        "colab": {
          "base_uri": "https://localhost:8080/"
        },
        "id": "HA2p5dhbJfvT",
        "outputId": "1cf832da-508f-4e0a-da3a-0c7e321dd7b3"
      },
      "outputs": [
        {
          "ename": "",
          "evalue": "",
          "output_type": "error",
          "traceback": [
            "\u001b[1;31mRunning cells with 'c:\\Users\\Nuzul Nur Fadilah\\AppData\\Local\\Microsoft\\WindowsApps\\python3.9.exe' requires the ipykernel package.\n",
            "\u001b[1;31mRun the following command to install 'ipykernel' into the Python environment. \n",
            "\u001b[1;31mCommand: '\"c:/Users/Nuzul Nur Fadilah/AppData/Local/Microsoft/WindowsApps/python3.9.exe\" -m pip install ipykernel -U --user --force-reinstall'"
          ]
        }
      ],
      "source": [
        "drive.mount('/content/drive')"
      ]
    },
    {
      "cell_type": "markdown",
      "metadata": {
        "id": "TQnZavwkKqNx"
      },
      "source": [
        "\n",
        "##**Preprocessing Data**\n",
        "Menghilangkan missing value dan kolom serat"
      ]
    },
    {
      "cell_type": "code",
      "execution_count": null,
      "metadata": {
        "id": "Wmx4iRBZKuL7"
      },
      "outputs": [
        {
          "ename": "",
          "evalue": "",
          "output_type": "error",
          "traceback": [
            "\u001b[1;31mRunning cells with 'c:\\Users\\Nuzul Nur Fadilah\\AppData\\Local\\Microsoft\\WindowsApps\\python3.9.exe' requires the ipykernel package.\n",
            "\u001b[1;31mRun the following command to install 'ipykernel' into the Python environment. \n",
            "\u001b[1;31mCommand: '\"c:/Users/Nuzul Nur Fadilah/AppData/Local/Microsoft/WindowsApps/python3.9.exe\" -m pip install ipykernel -U --user --force-reinstall'"
          ]
        }
      ],
      "source": [
        "def preprocessing(df) :\n",
        "  #menghapus kolom serat\n",
        "  df.drop(['serat'], axis = 1, inplace = True)\n",
        "  #mendeteksi dan menghapus missing value\n",
        "  print(\"Sebelum missing value dihilangkan :\\n\",df.isnull().sum())\n",
        "  print(\"Ukuran data sebelum missing value dihilangkan :\", df.shape)\n",
        "  df = df.dropna(axis=0)\n",
        "  print(\"Setelah missing value dihilangkan :\\n\",df.isnull().sum())\n",
        "  df.reset_index(drop=True, inplace = True)\n",
        "  print(\"Ukuran data setelah missing value dihilangkan :\", df.shape)\n",
        "  df.head()\n",
        "  return df\n",
        "# #mendeteksi dan menghilangkan outlier\n",
        "# sns.boxplot(df['kalori']).set(title='Deteksi Outlier Kalori')\n",
        "# Q1 = np.percentile(df['kalori'], 25,\n",
        "#                    interpolation = 'midpoint')\n",
        " \n",
        "# Q3 = np.percentile(df['kalori'], 75,\n",
        "#                    interpolation = 'midpoint')\n",
        "# IQR = Q3 - Q1\n",
        " \n",
        "# print(\"Sebelum menghilangkan outlier: \", df.shape)\n",
        " \n",
        "# # Upper bound\n",
        "# upper = np.where(df['kalori'] >= (Q3+1.5*IQR))\n",
        "# # Lower bound\n",
        "# lower = np.where(df['kalori'] <= (Q1-1.5*IQR))\n",
        " \n",
        "# ''' Removing the Outliers '''\n",
        "# df.drop(upper[0], inplace = True)\n",
        "# df.drop(lower[0], inplace = True)\n",
        "# df.reset_index(inplace = True)\n",
        "# print(\"Setelah menghilangkan outlier: \", df.shape)"
      ]
    },
    {
      "cell_type": "markdown",
      "metadata": {
        "id": "fGUBXVsISgkx"
      },
      "source": [
        "## **Perhitungan BMR**\n",
        "Menghitung kebutuhan energi (kalori), karbohidrat, protein, dan lemak"
      ]
    },
    {
      "cell_type": "code",
      "execution_count": null,
      "metadata": {
        "id": "YvmH5NshTkX9"
      },
      "outputs": [
        {
          "ename": "",
          "evalue": "",
          "output_type": "error",
          "traceback": [
            "\u001b[1;31mRunning cells with 'c:\\Users\\Nuzul Nur Fadilah\\AppData\\Local\\Microsoft\\WindowsApps\\python3.9.exe' requires the ipykernel package.\n",
            "\u001b[1;31mRun the following command to install 'ipykernel' into the Python environment. \n",
            "\u001b[1;31mCommand: '\"c:/Users/Nuzul Nur Fadilah/AppData/Local/Microsoft/WindowsApps/python3.9.exe\" -m pip install ipykernel -U --user --force-reinstall'"
          ]
        }
      ],
      "source": [
        "def perhitungan_gizi_harian() :\n",
        "  # window = tk.Tk()\n",
        "  # window.mainloop()\n",
        "  #Input data\n",
        "  tinggi = int(input(\"Input tinggi badan (dalam cm) : \"))\n",
        "  tinggi = tinggi/100\n",
        "  berat = int(input(\"Input berat badan (dalam kg) : \"))\n",
        "  usia = int(input(\"Input usia (dalam tahun) : \"))\n",
        "  jenis_kelamin = input(\"Input jenis kelamin (L/P) : \")\n",
        "  jenis_kerja = input(\"Jenis pekerjaan \\n1.Ringan (75% duduk/berdiri, 25% berdiri/bergerak) \\n2.Sedang (25% duduk/berdiri, 75% berdiri/bergerak) \\n3.Berat (40% duduk/berdiri, 60% aktivitas) \\nInput jenis pekerjaan (1/2/3) : \")\n",
        "\n",
        "  #Perhitungan energi harian\n",
        "  if jenis_kelamin == 'L' or  jenis_kelamin == 'l' :\n",
        "    BMR = 66.473 + (13.752*berat) + (5.003*tinggi) - (6.755*usia)\n",
        "    if jenis_kerja == '1' :\n",
        "      energi = BMR*1.56\n",
        "    elif jenis_kerja == '2' :\n",
        "      energi = BMR*1.76\n",
        "    elif jenis_kerja == '3' :\n",
        "      energi = BMR*2.1\n",
        "  elif jenis_kelamin == 'P' or  jenis_kelamin == 'p' :\n",
        "    BMR = 655.096 + (9.563*berat) + (1.850*tinggi) - (4.676*usia)\n",
        "    if jenis_kerja == '1' :\n",
        "      energi = BMR*1.55\n",
        "    elif jenis_kerja == '2' :\n",
        "      energi = BMR*1.7\n",
        "    elif jenis_kerja == '3' :\n",
        "      energi = BMR*2\n",
        "\n",
        "  #Menghitung BMI\n",
        "  bmi = berat/(tinggi**2)\n",
        "  if bmi < 17 :\n",
        "    bmi_kategori = \"Kurus (kekurangan berat badan tingkat berat)\"\n",
        "    energi = energi + 500\n",
        "  elif 17 <= bmi < 18.5 :\n",
        "    bmi_kategori = \"Kurus (kekurangan berat badan tingkat ringan)\"\n",
        "    energi = energi + 500\n",
        "  elif 18.5 <= bmi <= 25 :\n",
        "    bmi_kategori = \"Normal\"\n",
        "  elif 25 < bmi <= 27 :\n",
        "    bmi_kategori = \"Gemuk (kelebihan berat badan tingkat ringan)\"\n",
        "    energi = energi - 500\n",
        "  elif bmi > 27 :\n",
        "    bmi_kategori = \"Gemuk (kelebihan berat badan tingkat berat)\"\n",
        "    energi = energi - 500\n",
        "  print(bmi_kategori)\n",
        "  energi = round(energi, 3)\n",
        "  print(energi, \"kalori\")\n",
        "  #perhitungan protein, karbohidrat, lemak\n",
        "  protein = round((12/100*energi)/4, 3)\n",
        "  karbo = round((68/100*energi)/4, 3)\n",
        "  lemak = round((20/100*energi)/9, 3)\n",
        "  #mencari kebutuhan nutrisi tiap kali makan, dikurangi dengan jumlah gizi nasi\n",
        "  # energi = energi/3 - 180   #estimasi 3x makan\n",
        "  # protein = protein/3 - 3\n",
        "  # karbo = karbo/3 - 39.8\n",
        "  # lemak = lemak/3 - 0.3\n",
        "  array_gizi = [energi, protein, karbo, lemak] #kalori dibuat perhari\n",
        "  return (array_gizi)"
      ]
    },
    {
      "cell_type": "code",
      "execution_count": null,
      "metadata": {
        "colab": {
          "base_uri": "https://localhost:8080/"
        },
        "id": "vSo-4aJcDfH3",
        "outputId": "ad600fd9-3f39-4210-a041-071229de95a8"
      },
      "outputs": [
        {
          "ename": "",
          "evalue": "",
          "output_type": "error",
          "traceback": [
            "\u001b[1;31mRunning cells with 'c:\\Users\\Nuzul Nur Fadilah\\AppData\\Local\\Microsoft\\WindowsApps\\python3.9.exe' requires the ipykernel package.\n",
            "\u001b[1;31mRun the following command to install 'ipykernel' into the Python environment. \n",
            "\u001b[1;31mCommand: '\"c:/Users/Nuzul Nur Fadilah/AppData/Local/Microsoft/WindowsApps/python3.9.exe\" -m pip install ipykernel -U --user --force-reinstall'"
          ]
        }
      ],
      "source": [
        "array_gizi = perhitungan_gizi_harian()"
      ]
    },
    {
      "cell_type": "markdown",
      "metadata": {
        "id": "MOr37yljy6Em"
      },
      "source": [
        "### **Pengurangan dengan Nutrisi Nasi, Sayuran B, dan Buah**"
      ]
    },
    {
      "cell_type": "code",
      "execution_count": null,
      "metadata": {
        "id": "IleKLd8PzBte"
      },
      "outputs": [
        {
          "ename": "",
          "evalue": "",
          "output_type": "error",
          "traceback": [
            "\u001b[1;31mRunning cells with 'c:\\Users\\Nuzul Nur Fadilah\\AppData\\Local\\Microsoft\\WindowsApps\\python3.9.exe' requires the ipykernel package.\n",
            "\u001b[1;31mRun the following command to install 'ipykernel' into the Python environment. \n",
            "\u001b[1;31mCommand: '\"c:/Users/Nuzul Nur Fadilah/AppData/Local/Microsoft/WindowsApps/python3.9.exe\" -m pip install ipykernel -U --user --force-reinstall'"
          ]
        }
      ],
      "source": [
        "#pengurangan nutrisi nasi (180 kal, 3 gr protein, 39.8 gr karbo, 0.3 lemak)\n",
        "def nutrisi_nasi(df) :\n",
        "  df[0] = df[0] - 180\n",
        "  df[1] = df[1] - 3\n",
        "  df[2] = df[2] - 39.8\n",
        "  df[3] = df[3] - 0.3\n",
        "  return df\n",
        "\n",
        "#pengurangan nutrisi sayuran B (25 kal, 1 gr protein, 5 gr karbo)\n",
        "def nutrisi_sayur(df) :\n",
        "  df[0] = df[0] - 25\n",
        "  df[1] = df[1] - 1\n",
        "  df[2] = df[2] - 5\n",
        "  return df\n",
        "\n",
        "#mengambil buah dan sayur secara acak\n",
        "def random_buah_sayur(df) :\n",
        "  df.sample()\n",
        "  return df\n",
        "\n",
        "#pengurangan nutrisi buah (50 kal, 12 gr karbo)\n",
        "def nutrisi_buah(df_nutrisi, df_buah) :\n",
        "  df_buah = df_buah.to_numpy()\n",
        "  df_nutrisi[0] = df_nutrisi[0] - df_buah[0][1]\n",
        "  df_nutrisi[1] = df_nutrisi[1] - df_buah[0][2]\n",
        "  df_nutrisi[2] = df_nutrisi[2] - df_buah[0][3]\n",
        "  df_nutrisi[3] = df_nutrisi[3] - df_buah[0][4]\n",
        "  return df_nutrisi"
      ]
    },
    {
      "cell_type": "markdown",
      "metadata": {
        "id": "bj09vY-9hXre"
      },
      "source": [
        "## **Colaborative Filtering**"
      ]
    },
    {
      "cell_type": "code",
      "execution_count": null,
      "metadata": {
        "id": "abVnFDWa9fRW"
      },
      "outputs": [
        {
          "ename": "",
          "evalue": "",
          "output_type": "error",
          "traceback": [
            "\u001b[1;31mRunning cells with 'c:\\Users\\Nuzul Nur Fadilah\\AppData\\Local\\Microsoft\\WindowsApps\\python3.9.exe' requires the ipykernel package.\n",
            "\u001b[1;31mRun the following command to install 'ipykernel' into the Python environment. \n",
            "\u001b[1;31mCommand: '\"c:/Users/Nuzul Nur Fadilah/AppData/Local/Microsoft/WindowsApps/python3.9.exe\" -m pip install ipykernel -U --user --force-reinstall'"
          ]
        }
      ],
      "source": [
        "def colab_filtering(df, gizi) :\n",
        "  #euclidean distance\n",
        "  a = gizi\n",
        "  df['euclidean'] = np.nan\n",
        "  for i in range (len(df)) :\n",
        "    b = [df['kalori'][i], df['protein'][i], df['karbo'][i], df['lemak'][i]]\n",
        "    b = b / df['sajian_per_resep'][i]\n",
        "    df['euclidean'][i] = distance.euclidean(a,b)\n",
        "  df = df.sort_values(['euclidean'], ascending=[True])\n",
        "  #Pembobotan nutrisi dan rating\n",
        "  n = 0.5\n",
        "  max_jarak = max(df['euclidean'])\n",
        "  for i in df :\n",
        "    jarak = df['euclidean']\n",
        "    rating = df['rating']\n",
        "    df['score'] = n*(rating/5) + (1-n)*(1-(jarak/max_jarak))\n",
        "  menu_rekomendasi = df.sort_values(['score'], ascending=[False])\n",
        "  return menu_rekomendasi"
      ]
    },
    {
      "cell_type": "markdown",
      "metadata": {
        "id": "UMF-p5ozDnnF"
      },
      "source": [
        "## **Menampilkan Rekomendasi**"
      ]
    },
    {
      "cell_type": "code",
      "execution_count": null,
      "metadata": {
        "id": "6kPtOC6uD3KZ"
      },
      "outputs": [
        {
          "ename": "",
          "evalue": "",
          "output_type": "error",
          "traceback": [
            "\u001b[1;31mRunning cells with 'c:\\Users\\Nuzul Nur Fadilah\\AppData\\Local\\Microsoft\\WindowsApps\\python3.9.exe' requires the ipykernel package.\n",
            "\u001b[1;31mRun the following command to install 'ipykernel' into the Python environment. \n",
            "\u001b[1;31mCommand: '\"c:/Users/Nuzul Nur Fadilah/AppData/Local/Microsoft/WindowsApps/python3.9.exe\" -m pip install ipykernel -U --user --force-reinstall'"
          ]
        }
      ],
      "source": [
        "#menampilkan rekomendasi menu\n",
        "def tampil_rekomendasi(rekomendasi, resep_bahan) :\n",
        "  data_resep_bahan = pd.read_excel(\"drive/My Drive/Skripsi/DataUmami.xlsx\", sheet_name=resep_bahan)\n",
        "  inner_join = pd.merge(rekomendasi, data_resep_bahan, on ='nama_resep', how ='inner')\n",
        "  return (inner_join[['nama_resep','bahan_bahan','cara_membuat']])"
      ]
    },
    {
      "cell_type": "markdown",
      "metadata": {
        "id": "CuHivLApHeiP"
      },
      "source": [
        "# **MAIN FUNGSI**"
      ]
    },
    {
      "cell_type": "code",
      "execution_count": null,
      "metadata": {
        "colab": {
          "base_uri": "https://localhost:8080/"
        },
        "id": "guNtvO6tHkl6",
        "outputId": "9b123883-78cf-4258-9f8d-7c8748e37cc1"
      },
      "outputs": [
        {
          "ename": "",
          "evalue": "",
          "output_type": "error",
          "traceback": [
            "\u001b[1;31mRunning cells with 'c:\\Users\\Nuzul Nur Fadilah\\AppData\\Local\\Microsoft\\WindowsApps\\python3.9.exe' requires the ipykernel package.\n",
            "\u001b[1;31mRun the following command to install 'ipykernel' into the Python environment. \n",
            "\u001b[1;31mCommand: '\"c:/Users/Nuzul Nur Fadilah/AppData/Local/Microsoft/WindowsApps/python3.9.exe\" -m pip install ipykernel -U --user --force-reinstall'"
          ]
        }
      ],
      "source": [
        "#Membaca data\n",
        "df_sarapan = pd.read_excel(\"drive/My Drive/Skripsi/DataUmami.xlsx\", sheet_name='sarapan')\n",
        "df_sarapan = pd.DataFrame(df_sarapan)\n",
        "df_siang = pd.read_excel(\"drive/My Drive/Skripsi/DataUmami.xlsx\", sheet_name='makan_siang')\n",
        "df_siang = pd.DataFrame(df_siang)\n",
        "df_malam = pd.read_excel(\"drive/My Drive/Skripsi/DataUmami.xlsx\", sheet_name='makan_malam')\n",
        "df_malam = pd.DataFrame(df_malam)\n",
        "df_camilan = pd.read_excel(\"drive/My Drive/Skripsi/DataUmami.xlsx\", sheet_name='camilan')\n",
        "df_camilan = pd.DataFrame(df_camilan)\n",
        "df_buah = pd.read_excel(\"drive/My Drive/Skripsi/DataBahanPenukar.xlsx\", sheet_name='buah')\n",
        "df_buah = pd.DataFrame(df_buah)\n",
        "df_sayurA = pd.read_excel(\"drive/My Drive/Skripsi/DataBahanPenukar.xlsx\", sheet_name='sayurA')\n",
        "df_sayurA = pd.DataFrame(df_sayurA)\n",
        "df_sayurB = pd.read_excel(\"drive/My Drive/Skripsi/DataBahanPenukar.xlsx\", sheet_name='sayurB')\n",
        "df_sayurB = pd.DataFrame(df_sayurB)\n",
        "\n",
        "#Preprocessing data\n",
        "df_sarapan = preprocessing(df_sarapan)\n",
        "df_siang = preprocessing(df_siang)\n",
        "df_malam = preprocessing(df_malam)\n",
        "df_camilan = preprocessing(df_camilan)\n",
        "\n",
        "#Menentukan kebutuhan gizi pengguna\n",
        "array_gizi = perhitungan_gizi_harian()\n",
        "\n",
        "#Pembagian gizi harian\n",
        "sarapan, siang, malam, camilan = [], [], [], []\n",
        "for i in range (len(array_gizi)) :\n",
        "  sarapan.append(round(20/100*array_gizi[i], 3))\n",
        "  siang.append(round(25/100*array_gizi[i], 3))\n",
        "  malam.append(round(25/100*array_gizi[i], 3))\n",
        "  camilan.append(round(10/100*array_gizi[i],3))\n",
        "\n",
        "#Mengurangi nutrisi dengan nutrisi nasi pada menu makanan utama\n",
        "sarapan = nutrisi_nasi(sarapan)\n",
        "siang = nutrisi_nasi(siang)\n",
        "malam = nutrisi_nasi(malam)\n",
        "\n",
        "#Mengurangi nutrisi dengan nutrisi sayuran B pada menu makanan utama\n",
        "sayur_pagi = df_sayurA.sample(1)\n",
        "sayurA_siang = df_sayurA.sample(1)\n",
        "sayurA_malam = df_sayurA.sample(1)\n",
        "sayurB_siang = df_sayurB.sample(1)\n",
        "sayurB_malam = df_sayurB.sample(1)\n",
        "siang = nutrisi_sayur(siang)\n",
        "malam = nutrisi_sayur(malam)\n",
        "\n",
        "#Mengurangi nutrisi dengan nutrisi buah pada menu makanan utama\n",
        "buah_siang = df_buah.sample(1)\n",
        "buah_malam = df_buah.sample(1)\n",
        "siang = nutrisi_buah(siang, buah_siang)\n",
        "malam = nutrisi_buah(malam, buah_siang)\n",
        "\n",
        "#Menentukan rekomendasi\n",
        "rekomendasi_sarapan = colab_filtering(df_sarapan,sarapan).head(1)\n",
        "rekomendasi_siang = colab_filtering(df_siang,siang).head(1)\n",
        "rekomendasi_malam = colab_filtering(df_malam,malam).head(1)\n",
        "rekomendasi_camilan = colab_filtering(df_camilan,camilan).head(3)\n",
        "\n",
        "#Menampilkan rekomendasi\n",
        "tampil_sarapan = tampil_rekomendasi(rekomendasi_sarapan, 'sarapan_resep_bahan')\n",
        "tampil_siang = tampil_rekomendasi(rekomendasi_siang, 'makan_siang_resep_bahan')\n",
        "tampil_malam = tampil_rekomendasi(rekomendasi_malam, 'makan_malam_resep_bahan')\n",
        "tampil_camilan = tampil_rekomendasi(rekomendasi_camilan, 'camilan_resep_bahan')\n",
        "\n",
        "pd.set_option('max_rows', 99999)\n",
        "pd.set_option('max_colwidth', 100)\n",
        "pd.describe_option('max_colwidth')\n",
        "print(\"\\n\\n\\n################# SARAPAN ####################\")\n",
        "print(tabulate(tampil_sarapan, headers='keys', tablefmt='pretty'))\n",
        "print(\"sayuran pagi:\\n\",sayur_pagi.nama_sayur.to_string(index=False))\n",
        "print(\"\\n\\n\\n################# CAMILAN PAGI ####################\")\n",
        "print(tabulate(tampil_camilan.loc[[0]], headers='keys', tablefmt='pretty'))\n",
        "print(\"\\n\\n\\n################# MAKAN SIANG ####################\")\n",
        "print(tabulate(tampil_siang, headers='keys', tablefmt='pretty'))\n",
        "print(\"sayuran siang:\\n\", sayurA_siang.nama_sayur.to_string(index=False), \"\\n\", sayurB_siang.nama_sayur.to_string(index=False))\n",
        "print(\"buah siang:\\n\", buah_siang.nama_buah.to_string(index=False), \" \", buah_siang.porsi_urt.to_string(index=False))\n",
        "print(\"\\n\\n\\n################# CAMILAN SIANG ####################\")\n",
        "print(tabulate(tampil_camilan.loc[[1]], headers='keys', tablefmt='pretty'))\n",
        "print(\"\\n\\n\\n################# MAKAN MALAM ####################\")\n",
        "print(tabulate(tampil_malam, headers='keys', tablefmt='pretty'))\n",
        "print(\"sayuran malam:\\n\", sayurA_malam.nama_sayur.to_string(index=False), \"\\n\", sayurB_malam.nama_sayur.to_string(index=False))\n",
        "print(\"buah malam:\\n\", buah_malam.nama_buah.to_string(index=False), \" \", buah_malam.porsi_urt.to_string(index=False))\n",
        "print(\"\\n\\n\\n################# CAMILAN MALAM ####################\")\n",
        "print(tabulate(tampil_camilan.loc[[2]], headers='keys', tablefmt='pretty'))"
      ]
    }
  ],
  "metadata": {
    "colab": {
      "authorship_tag": "ABX9TyM7UcSSh6fERbq5yTP4BtMa",
      "include_colab_link": true,
      "mount_file_id": "1FI-yAcEMGWoQxy0b7aG5SbPHJVvmgwI1",
      "provenance": []
    },
    "kernelspec": {
      "display_name": "Python 3",
      "language": "python",
      "name": "python3"
    },
    "language_info": {
      "name": "python",
      "version": "3.9.13"
    },
    "vscode": {
      "interpreter": {
        "hash": "23a543136bd208e25ef1b42a8d707f3f5b0fbf905d568f2b4ca3d9696de9ea82"
      }
    }
  },
  "nbformat": 4,
  "nbformat_minor": 0
}
